{
 "cells": [
  {
   "cell_type": "markdown",
   "id": "aaaf201b",
   "metadata": {},
   "source": [
    "# Linear Regression : y = mx+c"
   ]
  },
  {
   "cell_type": "code",
   "execution_count": 1,
   "id": "79c8ba34",
   "metadata": {},
   "outputs": [],
   "source": [
    "import numpy as np\n",
    "import pandas as pd\n",
    "import matplotlib.pyplot as plt"
   ]
  },
  {
   "cell_type": "code",
   "execution_count": 2,
   "id": "df5a1fc8",
   "metadata": {},
   "outputs": [],
   "source": [
    "ht=[[151],[174],[138],[186],[128],[136],[179],[163],[152],[131]]\n",
    "wt=[[63],[81],[56],[91],[47],[57],[76],[72],[62],[48]]"
   ]
  },
  {
   "cell_type": "code",
   "execution_count": 4,
   "id": "a7e6d1b0",
   "metadata": {},
   "outputs": [
    {
     "data": {
      "image/png": "[encoded data removed]",
      "text/plain": [
       "<Figure size 432x288 with 1 Axes>"
      ]
     },
     "metadata": {
      "needs_background": "light"
     },
     "output_type": "display_data"
    }
   ],
   "source": [
    "plt.scatter(ht,wt)\n",
    "plt.show()"
   ]
  },
  {
   "cell_type": "markdown",
   "id": "4a4b24b0",
   "metadata": {},
   "source": [
    "# Training of algorithm"
   ]
  },
  {
   "cell_type": "code",
   "execution_count": 5,
   "id": "45e52a88",
   "metadata": {},
   "outputs": [],
   "source": [
    "#sklearn or scikit learn\n",
    "from sklearn.linear_model import LinearRegression"
   ]
  },
  {
   "cell_type": "code",
   "execution_count": 6,
   "id": "a9b4de3f",
   "metadata": {},
   "outputs": [],
   "source": [
    "# Creating an object of class LinearRegression\n",
    "model = LinearRegression()"
   ]
  },
  {
   "cell_type": "code",
   "execution_count": 7,
   "id": "47aaf0f8",
   "metadata": {},
   "outputs": [
    {
     "data": {
      "text/plain": [
       "LinearRegression()"
      ]
     },
     "execution_count": 7,
     "metadata": {},
     "output_type": "execute_result"
    }
   ],
   "source": [
    "model"
   ]
  },
  {
   "cell_type": "markdown",
   "id": "752f93db",
   "metadata": {},
   "source": [
    "# Training of algorithm/ Fit the model/ fit the algorithm"
   ]
  },
  {
   "cell_type": "code",
   "execution_count": 11,
   "id": "0775bd82",
   "metadata": {},
   "outputs": [
    {
     "data": {
      "text/plain": [
       "LinearRegression()"
      ]
     },
     "execution_count": 11,
     "metadata": {},
     "output_type": "execute_result"
    }
   ],
   "source": [
    "#fit linear model\n",
    "model.fit(ht,wt)"
   ]
  },
  {
   "cell_type": "code",
   "execution_count": 18,
   "id": "c4ff168d",
   "metadata": {},
   "outputs": [
    {
     "data": {
      "text/plain": [
       "array([[0.67461045]])"
      ]
     },
     "execution_count": 18,
     "metadata": {},
     "output_type": "execute_result"
    }
   ],
   "source": [
    "# m== slope\n",
    "model.coef_\n"
   ]
  },
  {
   "cell_type": "code",
   "execution_count": 19,
   "id": "e847e7b0",
   "metadata": {},
   "outputs": [
    {
     "data": {
      "text/plain": [
       "array([[0.67461045]])"
      ]
     },
     "execution_count": 19,
     "metadata": {},
     "output_type": "execute_result"
    }
   ],
   "source": [
    "m = model.coef_\n",
    "m"
   ]
  },
  {
   "cell_type": "code",
   "execution_count": 17,
   "id": "dacba7e7",
   "metadata": {},
   "outputs": [
    {
     "data": {
      "text/plain": [
       "array([-38.45508708])"
      ]
     },
     "execution_count": 17,
     "metadata": {},
     "output_type": "execute_result"
    }
   ],
   "source": [
    "model.intercept_"
   ]
  },
  {
   "cell_type": "code",
   "execution_count": 21,
   "id": "59d7e5e1",
   "metadata": {},
   "outputs": [
    {
     "data": {
      "text/plain": [
       "array([-38.45508708])"
      ]
     },
     "execution_count": 21,
     "metadata": {},
     "output_type": "execute_result"
    }
   ],
   "source": [
    "c = model.intercept_\n",
    "c"
   ]
  },
  {
   "cell_type": "markdown",
   "id": "0acd2d3a",
   "metadata": {},
   "source": [
    "# Testing of data/ Prediction of Test data"
   ]
  },
  {
   "cell_type": "code",
   "execution_count": 22,
   "id": "7ad4c5f1",
   "metadata": {},
   "outputs": [],
   "source": [
    "#supply single input to test...\n",
    "sample_data = [[171]]"
   ]
  },
  {
   "cell_type": "code",
   "execution_count": 23,
   "id": "bf610203",
   "metadata": {},
   "outputs": [
    {
     "data": {
      "text/plain": [
       "array([[76.90329973]])"
      ]
     },
     "execution_count": 23,
     "metadata": {},
     "output_type": "execute_result"
    }
   ],
   "source": [
    "model.predict(sample_data)"
   ]
  },
  {
   "cell_type": "code",
   "execution_count": 24,
   "id": "fcd589d0",
   "metadata": {},
   "outputs": [
    {
     "name": "stdout",
     "output_type": "stream",
     "text": [
      "Enter the Height:[[151]]\n",
      "Predicted wt of a person is: [[63.41109074]]\n"
     ]
    }
   ],
   "source": [
    "height = eval(input('Enter the Height:'))\n",
    "print('Predicted wt of a person is:',model.predict(height) )"
   ]
  },
  {
   "cell_type": "code",
   "execution_count": 25,
   "id": "4208cc2a",
   "metadata": {},
   "outputs": [
    {
     "name": "stdout",
     "output_type": "stream",
     "text": [
      "Enter the Height:[[120],[150],[135],[182],[164],[172]]\n",
      "Predicted wt of a person is: [[42.49816682]\n",
      " [62.73648029]\n",
      " [52.61732356]\n",
      " [84.32401467]\n",
      " [72.18102658]\n",
      " [77.57791017]]\n"
     ]
    }
   ],
   "source": [
    "height = eval(input('Enter the Height:'))\n",
    "print('Predicted wt of a person is:',model.predict(height) )"
   ]
  },
  {
   "cell_type": "markdown",
   "id": "11ded10b",
   "metadata": {},
   "source": [
    "# How does it works??????????"
   ]
  },
  {
   "cell_type": "code",
   "execution_count": 26,
   "id": "58e882a2",
   "metadata": {},
   "outputs": [
    {
     "data": {
      "text/plain": [
       "array([[0.67461045]])"
      ]
     },
     "execution_count": 26,
     "metadata": {},
     "output_type": "execute_result"
    }
   ],
   "source": [
    "m"
   ]
  },
  {
   "cell_type": "code",
   "execution_count": 27,
   "id": "3b5e76a1",
   "metadata": {},
   "outputs": [
    {
     "data": {
      "text/plain": [
       "array([-38.45508708])"
      ]
     },
     "execution_count": 27,
     "metadata": {},
     "output_type": "execute_result"
    }
   ],
   "source": [
    "c"
   ]
  },
  {
   "cell_type": "markdown",
   "id": "15126352",
   "metadata": {},
   "source": [
    "### y = mx + c"
   ]
  },
  {
   "cell_type": "code",
   "execution_count": 29,
   "id": "59246150",
   "metadata": {},
   "outputs": [
    {
     "data": {
      "text/plain": [
       "array([[42.49816682]])"
      ]
     },
     "execution_count": 29,
     "metadata": {},
     "output_type": "execute_result"
    }
   ],
   "source": [
    "m*120+c"
   ]
  },
  {
   "cell_type": "code",
   "execution_count": 30,
   "id": "fe65686c",
   "metadata": {},
   "outputs": [
    {
     "data": {
      "text/plain": [
       "array([[52.61732356]])"
      ]
     },
     "execution_count": 30,
     "metadata": {},
     "output_type": "execute_result"
    }
   ],
   "source": [
    "m*135+c"
   ]
  },
  {
   "cell_type": "code",
   "execution_count": 31,
   "id": "d4654882",
   "metadata": {},
   "outputs": [
    {
     "name": "stdout",
     "output_type": "stream",
     "text": [
      "Enter the Height:[[110],[135],[155],[178],[180]]\n",
      "Predicted wt of a person is: [[35.75206233]\n",
      " [52.61732356]\n",
      " [66.10953254]\n",
      " [81.62557287]\n",
      " [82.97479377]]\n"
     ]
    }
   ],
   "source": [
    "# Supply multiple inputs\n",
    "height = eval(input('Enter the Height:'))\n",
    "y_pred = model.predict(height)\n",
    "print('Predicted wt of a person is:', y_pred)"
   ]
  },
  {
   "cell_type": "code",
   "execution_count": 32,
   "id": "3368be45",
   "metadata": {},
   "outputs": [
    {
     "data": {
      "text/plain": [
       "array([[35.75206233],\n",
       "       [52.61732356],\n",
       "       [66.10953254],\n",
       "       [81.62557287],\n",
       "       [82.97479377]])"
      ]
     },
     "execution_count": 32,
     "metadata": {},
     "output_type": "execute_result"
    }
   ],
   "source": [
    "y_pred"
   ]
  },
  {
   "cell_type": "code",
   "execution_count": 34,
   "id": "116100c3",
   "metadata": {},
   "outputs": [
    {
     "data": {
      "text/plain": [
       "[[110], [135], [155], [178], [180]]"
      ]
     },
     "execution_count": 34,
     "metadata": {},
     "output_type": "execute_result"
    }
   ],
   "source": [
    "height\n"
   ]
  },
  {
   "cell_type": "code",
   "execution_count": 39,
   "id": "d0beec75",
   "metadata": {},
   "outputs": [
    {
     "data": {
      "image/png": "[encoded data removed]",
      "text/plain": [
       "<Figure size 432x288 with 1 Axes>"
      ]
     },
     "metadata": {
      "needs_background": "light"
     },
     "output_type": "display_data"
    }
   ],
   "source": [
    "plt.scatter(ht,wt,label='Actual data')\n",
    "plt.plot(height,y_pred,'r',label='Regression line')\n",
    "plt.legend()\n",
    "plt.show()"
   ]
  },
  {
   "cell_type": "markdown",
   "id": "bacfb8d7",
   "metadata": {},
   "source": [
    "# Check accuracy\n"
   ]
  },
  {
   "cell_type": "code",
   "execution_count": 40,
   "id": "d7a35e3c",
   "metadata": {},
   "outputs": [
    {
     "data": {
      "text/plain": [
       "95.47822477500306"
      ]
     },
     "execution_count": 40,
     "metadata": {},
     "output_type": "execute_result"
    }
   ],
   "source": [
    "#Training accuracy\n",
    "model.score(ht,wt)*100"
   ]
  },
  {
   "cell_type": "code",
   "execution_count": 44,
   "id": "392084c9",
   "metadata": {},
   "outputs": [
    {
     "data": {
      "text/plain": [
       "100.0"
      ]
     },
     "execution_count": 44,
     "metadata": {},
     "output_type": "execute_result"
    }
   ],
   "source": [
    "# Testing accuracy\n",
    "#right now we have only input for testing we dont have wt for testing\n",
    "#instead we have predicted wt\n",
    "# Prediction accuracy\n",
    "model.score(height,y_pred)*100"
   ]
  },
  {
   "cell_type": "markdown",
   "id": "ca9b3710",
   "metadata": {},
   "source": [
    "Linear regression uses \n",
    "y =mx+c\n",
    "    ht\n",
    "\n",
    "When we have multiple inputs then the same formulae becomes\n",
    "(suppose we have 3 inputs)\n",
    "This is called as #Multilinear regression.......\n",
    "y = m1x1 + m2x2 + m3x3\n",
    "      [ht]  [cal]   [food_intake]"
   ]
  },
  {
   "cell_type": "code",
   "execution_count": null,
   "id": "a5c4b3e5",
   "metadata": {},
   "outputs": [],
   "source": []
  }
 ],
 "metadata": {
  "kernelspec": {
   "display_name": "Python 3 (ipykernel)",
   "language": "python",
   "name": "python3"
  },
  "language_info": {
   "codemirror_mode": {
    "name": "ipython",
    "version": 3
   },
   "file_extension": ".py",
   "mimetype": "text/x-python",
   "name": "python",
   "nbconvert_exporter": "python",
   "pygments_lexer": "ipython3",
   "version": "3.9.5"
  }
 },
 "nbformat": 4,
 "nbformat_minor": 5
}
